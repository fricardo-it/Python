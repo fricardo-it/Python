{
  "nbformat": 4,
  "nbformat_minor": 0,
  "metadata": {
    "colab": {
      "provenance": []
    },
    "kernelspec": {
      "name": "python3",
      "display_name": "Python 3"
    },
    "language_info": {
      "name": "python"
    }
  },
  "cells": [
    {
      "cell_type": "code",
      "execution_count": 43,
      "metadata": {
        "id": "UtK6EleRZeeU"
      },
      "outputs": [],
      "source": [
        "import numpy as np\n",
        "import pandas as pd\n",
        "import matplotlib.pyplot as plt"
      ]
    },
    {
      "cell_type": "code",
      "source": [
        "#3.a\n",
        "dataset = pd.read_csv(\"grade_data.csv\")\n",
        "print(dataset)"
      ],
      "metadata": {
        "colab": {
          "base_uri": "https://localhost:8080/"
        },
        "id": "TmLLUlV8Z0ur",
        "outputId": "526700f9-3b6c-400b-d995-94cf3cd00e28"
      },
      "execution_count": 5,
      "outputs": [
        {
          "output_type": "stream",
          "name": "stdout",
          "text": [
            "    Student_ID  Hours_Studied  Test_Score\n",
            "0            1       5.488135   65.789177\n",
            "1            2       7.151894   94.767733\n",
            "2            3       6.027634   84.794793\n",
            "3            4       5.448832   61.881722\n",
            "4            5       4.236548   86.065262\n",
            "..         ...            ...         ...\n",
            "95          96       1.831914   65.975513\n",
            "96          97       5.865129   71.291550\n",
            "97          98       0.201075   44.109880\n",
            "98          99       8.289400   86.891676\n",
            "99         100       0.046955   50.409565\n",
            "\n",
            "[100 rows x 3 columns]\n"
          ]
        }
      ]
    },
    {
      "cell_type": "code",
      "source": [
        "#3.b\n",
        "print(dataset.sample(10))"
      ],
      "metadata": {
        "colab": {
          "base_uri": "https://localhost:8080/"
        },
        "id": "s-tLZDmSZ9ul",
        "outputId": "c4296f8c-fca8-4ad7-f1a5-d525b4db3f28"
      },
      "execution_count": 7,
      "outputs": [
        {
          "output_type": "stream",
          "name": "stdout",
          "text": [
            "    Student_ID  Hours_Studied  Test_Score\n",
            "66          67       8.209932   81.921439\n",
            "7            8       8.917730   92.789402\n",
            "84          85       5.666015   66.075718\n",
            "44          45       6.667667   76.392657\n",
            "60          61       1.589696   43.035903\n",
            "90          91       3.185690   75.137036\n",
            "39          40       6.818203   93.313082\n",
            "83          84       6.924721   85.499118\n",
            "50          51       5.701968   70.810678\n",
            "11          12       5.288949   88.669197\n"
          ]
        }
      ]
    },
    {
      "cell_type": "code",
      "source": [
        "#3.c\n",
        "dataset.dropna(inplace = True)\n",
        "print(dataset)"
      ],
      "metadata": {
        "colab": {
          "base_uri": "https://localhost:8080/"
        },
        "id": "cN-Y2MXuaOeg",
        "outputId": "72f4d17f-7232-4e51-9644-21a06aee6f0c"
      },
      "execution_count": 11,
      "outputs": [
        {
          "output_type": "stream",
          "name": "stdout",
          "text": [
            "    Student_ID  Hours_Studied  Test_Score\n",
            "0            1       5.488135   65.789177\n",
            "1            2       7.151894   94.767733\n",
            "2            3       6.027634   84.794793\n",
            "3            4       5.448832   61.881722\n",
            "4            5       4.236548   86.065262\n",
            "..         ...            ...         ...\n",
            "95          96       1.831914   65.975513\n",
            "96          97       5.865129   71.291550\n",
            "97          98       0.201075   44.109880\n",
            "98          99       8.289400   86.891676\n",
            "99         100       0.046955   50.409565\n",
            "\n",
            "[100 rows x 3 columns]\n"
          ]
        }
      ]
    },
    {
      "cell_type": "code",
      "source": [
        "for x in dataset.index:\n",
        "  if dataset.loc[x, 'Test_Score'] <0 or dataset.loc[x, 'Test_Score'] > 100:\n",
        "    dataset.loc[x,'Test_Score'] = round(dataset['Test_Score'].mean(),2)\n",
        "\n",
        "print(dataset)"
      ],
      "metadata": {
        "colab": {
          "base_uri": "https://localhost:8080/"
        },
        "id": "5gXnGk6Fabtv",
        "outputId": "7d29f6b4-283c-4b2c-fa15-c2a0030bf2e1"
      },
      "execution_count": 13,
      "outputs": [
        {
          "output_type": "stream",
          "name": "stdout",
          "text": [
            "    Student_ID  Hours_Studied  Test_Score\n",
            "0            1       5.488135   65.789177\n",
            "1            2       7.151894   94.767733\n",
            "2            3       6.027634   84.794793\n",
            "3            4       5.448832   61.881722\n",
            "4            5       4.236548   86.065262\n",
            "..         ...            ...         ...\n",
            "95          96       1.831914   65.975513\n",
            "96          97       5.865129   71.291550\n",
            "97          98       0.201075   44.109880\n",
            "98          99       8.289400   86.891676\n",
            "99         100       0.046955   50.409565\n",
            "\n",
            "[100 rows x 3 columns]\n"
          ]
        }
      ]
    },
    {
      "cell_type": "code",
      "source": [
        "#3.d\n",
        "dataset = dataset.drop('Student_ID', axis = 1)\n",
        "print(dataset)"
      ],
      "metadata": {
        "colab": {
          "base_uri": "https://localhost:8080/"
        },
        "id": "YdNO5SQya19Y",
        "outputId": "d22c3d29-d9d1-4ad1-e52a-980b6eb3b738"
      },
      "execution_count": 14,
      "outputs": [
        {
          "output_type": "stream",
          "name": "stdout",
          "text": [
            "    Hours_Studied  Test_Score\n",
            "0        5.488135   65.789177\n",
            "1        7.151894   94.767733\n",
            "2        6.027634   84.794793\n",
            "3        5.448832   61.881722\n",
            "4        4.236548   86.065262\n",
            "..            ...         ...\n",
            "95       1.831914   65.975513\n",
            "96       5.865129   71.291550\n",
            "97       0.201075   44.109880\n",
            "98       8.289400   86.891676\n",
            "99       0.046955   50.409565\n",
            "\n",
            "[100 rows x 2 columns]\n"
          ]
        }
      ]
    },
    {
      "cell_type": "code",
      "source": [
        "#3.e\n",
        "X = dataset.iloc[:,:-1]\n",
        "Y = dataset.iloc[:, -1]"
      ],
      "metadata": {
        "id": "rfyBPsA-bL4L"
      },
      "execution_count": 16,
      "outputs": []
    },
    {
      "cell_type": "code",
      "source": [
        "from sklearn.model_selection import train_test_split\n",
        "\n",
        "X_train, X_test, Y_train, Y_test = train_test_split(X, Y, test_size=0.275, random_state=0)"
      ],
      "metadata": {
        "id": "8X-6LOo0bcbB"
      },
      "execution_count": 18,
      "outputs": []
    },
    {
      "cell_type": "code",
      "source": [
        "from sklearn.linear_model import LinearRegression\n",
        "\n",
        "model = LinearRegression()\n",
        "\n",
        "model.fit(X_train, Y_train)"
      ],
      "metadata": {
        "colab": {
          "base_uri": "https://localhost:8080/",
          "height": 75
        },
        "id": "rIGdTAV4bkfk",
        "outputId": "e3f3c15b-df9d-438d-de9e-41e8d9f48a9c"
      },
      "execution_count": 19,
      "outputs": [
        {
          "output_type": "execute_result",
          "data": {
            "text/plain": [
              "LinearRegression()"
            ],
            "text/html": [
              "<style>#sk-container-id-1 {color: black;background-color: white;}#sk-container-id-1 pre{padding: 0;}#sk-container-id-1 div.sk-toggleable {background-color: white;}#sk-container-id-1 label.sk-toggleable__label {cursor: pointer;display: block;width: 100%;margin-bottom: 0;padding: 0.3em;box-sizing: border-box;text-align: center;}#sk-container-id-1 label.sk-toggleable__label-arrow:before {content: \"▸\";float: left;margin-right: 0.25em;color: #696969;}#sk-container-id-1 label.sk-toggleable__label-arrow:hover:before {color: black;}#sk-container-id-1 div.sk-estimator:hover label.sk-toggleable__label-arrow:before {color: black;}#sk-container-id-1 div.sk-toggleable__content {max-height: 0;max-width: 0;overflow: hidden;text-align: left;background-color: #f0f8ff;}#sk-container-id-1 div.sk-toggleable__content pre {margin: 0.2em;color: black;border-radius: 0.25em;background-color: #f0f8ff;}#sk-container-id-1 input.sk-toggleable__control:checked~div.sk-toggleable__content {max-height: 200px;max-width: 100%;overflow: auto;}#sk-container-id-1 input.sk-toggleable__control:checked~label.sk-toggleable__label-arrow:before {content: \"▾\";}#sk-container-id-1 div.sk-estimator input.sk-toggleable__control:checked~label.sk-toggleable__label {background-color: #d4ebff;}#sk-container-id-1 div.sk-label input.sk-toggleable__control:checked~label.sk-toggleable__label {background-color: #d4ebff;}#sk-container-id-1 input.sk-hidden--visually {border: 0;clip: rect(1px 1px 1px 1px);clip: rect(1px, 1px, 1px, 1px);height: 1px;margin: -1px;overflow: hidden;padding: 0;position: absolute;width: 1px;}#sk-container-id-1 div.sk-estimator {font-family: monospace;background-color: #f0f8ff;border: 1px dotted black;border-radius: 0.25em;box-sizing: border-box;margin-bottom: 0.5em;}#sk-container-id-1 div.sk-estimator:hover {background-color: #d4ebff;}#sk-container-id-1 div.sk-parallel-item::after {content: \"\";width: 100%;border-bottom: 1px solid gray;flex-grow: 1;}#sk-container-id-1 div.sk-label:hover label.sk-toggleable__label {background-color: #d4ebff;}#sk-container-id-1 div.sk-serial::before {content: \"\";position: absolute;border-left: 1px solid gray;box-sizing: border-box;top: 0;bottom: 0;left: 50%;z-index: 0;}#sk-container-id-1 div.sk-serial {display: flex;flex-direction: column;align-items: center;background-color: white;padding-right: 0.2em;padding-left: 0.2em;position: relative;}#sk-container-id-1 div.sk-item {position: relative;z-index: 1;}#sk-container-id-1 div.sk-parallel {display: flex;align-items: stretch;justify-content: center;background-color: white;position: relative;}#sk-container-id-1 div.sk-item::before, #sk-container-id-1 div.sk-parallel-item::before {content: \"\";position: absolute;border-left: 1px solid gray;box-sizing: border-box;top: 0;bottom: 0;left: 50%;z-index: -1;}#sk-container-id-1 div.sk-parallel-item {display: flex;flex-direction: column;z-index: 1;position: relative;background-color: white;}#sk-container-id-1 div.sk-parallel-item:first-child::after {align-self: flex-end;width: 50%;}#sk-container-id-1 div.sk-parallel-item:last-child::after {align-self: flex-start;width: 50%;}#sk-container-id-1 div.sk-parallel-item:only-child::after {width: 0;}#sk-container-id-1 div.sk-dashed-wrapped {border: 1px dashed gray;margin: 0 0.4em 0.5em 0.4em;box-sizing: border-box;padding-bottom: 0.4em;background-color: white;}#sk-container-id-1 div.sk-label label {font-family: monospace;font-weight: bold;display: inline-block;line-height: 1.2em;}#sk-container-id-1 div.sk-label-container {text-align: center;}#sk-container-id-1 div.sk-container {/* jupyter's `normalize.less` sets `[hidden] { display: none; }` but bootstrap.min.css set `[hidden] { display: none !important; }` so we also need the `!important` here to be able to override the default hidden behavior on the sphinx rendered scikit-learn.org. See: https://github.com/scikit-learn/scikit-learn/issues/21755 */display: inline-block !important;position: relative;}#sk-container-id-1 div.sk-text-repr-fallback {display: none;}</style><div id=\"sk-container-id-1\" class=\"sk-top-container\"><div class=\"sk-text-repr-fallback\"><pre>LinearRegression()</pre><b>In a Jupyter environment, please rerun this cell to show the HTML representation or trust the notebook. <br />On GitHub, the HTML representation is unable to render, please try loading this page with nbviewer.org.</b></div><div class=\"sk-container\" hidden><div class=\"sk-item\"><div class=\"sk-estimator sk-toggleable\"><input class=\"sk-toggleable__control sk-hidden--visually\" id=\"sk-estimator-id-1\" type=\"checkbox\" checked><label for=\"sk-estimator-id-1\" class=\"sk-toggleable__label sk-toggleable__label-arrow\">LinearRegression</label><div class=\"sk-toggleable__content\"><pre>LinearRegression()</pre></div></div></div></div></div>"
            ]
          },
          "metadata": {},
          "execution_count": 19
        }
      ]
    },
    {
      "cell_type": "code",
      "source": [
        "Y_pred_test = model.predict(X_test)\n",
        "# Y_pred_train = model.predict(X_test)\n"
      ],
      "metadata": {
        "id": "C8eJoA_Jblem"
      },
      "execution_count": 45,
      "outputs": []
    },
    {
      "cell_type": "code",
      "source": [
        "from sklearn.metrics import r2_score\n",
        "score_test = r2_score(Y_test, Y_pred_test)\n",
        "print(score_test)\n",
        "# score_train = r2_score(Y_train, Y_pred_train)\n",
        "# print(score_train)"
      ],
      "metadata": {
        "colab": {
          "base_uri": "https://localhost:8080/"
        },
        "id": "ZnBwJm-WcMeF",
        "outputId": "ba136795-3c40-4929-af53-9f0995f58a34"
      },
      "execution_count": 49,
      "outputs": [
        {
          "output_type": "stream",
          "name": "stdout",
          "text": [
            "0.5396330146842419\n"
          ]
        }
      ]
    },
    {
      "cell_type": "code",
      "source": [
        "plt.scatter(Y_test, Y_pred_test, color='red')\n",
        "plt.plot([Y_test.min(), Y_test.max()], [Y_test.min(),Y_test.max()], color = 'blue')\n",
        "plt.show()"
      ],
      "metadata": {
        "colab": {
          "base_uri": "https://localhost:8080/",
          "height": 434
        },
        "id": "fDJ3hV4idJmc",
        "outputId": "4c515e25-602a-460e-88a1-02e96cc2523a"
      },
      "execution_count": 51,
      "outputs": [
        {
          "output_type": "display_data",
          "data": {
            "text/plain": [
              "<Figure size 640x480 with 1 Axes>"
            ],
            "image/png": "[encoded data removed]"
          },
          "metadata": {}
        }
      ]
    },
    {
      "cell_type": "code",
      "source": [
        "hours_to_predict = [[5], [10]]\n",
        "grades_predicted = model.predict(hours_to_predict)"
      ],
      "metadata": {
        "colab": {
          "base_uri": "https://localhost:8080/"
        },
        "id": "7y_JCeppd2Lt",
        "outputId": "08d2e4af-1182-4839-bed9-d5fe0f2cef48"
      },
      "execution_count": 52,
      "outputs": [
        {
          "output_type": "stream",
          "name": "stderr",
          "text": [
            "/usr/local/lib/python3.10/dist-packages/sklearn/base.py:439: UserWarning: X does not have valid feature names, but LinearRegression was fitted with feature names\n",
            "  warnings.warn(\n"
          ]
        }
      ]
    },
    {
      "cell_type": "code",
      "source": [
        "print(f'Predicted 5hr: {grades_predicted[0]}')\n",
        "print(f'Predicted 10hr: {grades_predicted[1]}')"
      ],
      "metadata": {
        "colab": {
          "base_uri": "https://localhost:8080/"
        },
        "id": "w-Yo1tTgd54R",
        "outputId": "7817024e-b33a-4ea9-8014-38e443e0ce59"
      },
      "execution_count": 54,
      "outputs": [
        {
          "output_type": "stream",
          "name": "stdout",
          "text": [
            "Predicted 5hr: 75.22065888221084\n",
            "Predicted 10hr: 95.63650887736341\n"
          ]
        }
      ]
    }
  ]
}