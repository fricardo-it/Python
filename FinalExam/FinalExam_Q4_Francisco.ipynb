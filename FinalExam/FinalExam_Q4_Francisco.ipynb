{
  "nbformat": 4,
  "nbformat_minor": 0,
  "metadata": {
    "colab": {
      "provenance": []
    },
    "kernelspec": {
      "name": "python3",
      "display_name": "Python 3"
    },
    "language_info": {
      "name": "python"
    }
  },
  "cells": [
    {
      "cell_type": "code",
      "execution_count": null,
      "metadata": {
        "id": "FaZ4cNFieQXu"
      },
      "outputs": [],
      "source": [
        "import numpy as np\n",
        "import pandas as pd"
      ]
    },
    {
      "cell_type": "code",
      "source": [
        "#4a\n",
        "dataset = pd.read_csv(\"credit_fraud_data.csv\")\n",
        "print(dataset)"
      ],
      "metadata": {
        "colab": {
          "base_uri": "https://localhost:8080/"
        },
        "id": "NJWVFYm5eUhy",
        "outputId": "de801fcd-ec29-4c07-b2ca-3484b6d5f7c2"
      },
      "execution_count": 39,
      "outputs": [
        {
          "output_type": "stream",
          "name": "stdout",
          "text": [
            "    Gender   Age  Annual_Income  Credit_Score   Loan_Amount  Previous_Default  \\\n",
            "0     Male  60.0   83903.728586         316.0  23924.276001               1.0   \n",
            "1   Female  38.0  147428.511410         406.0  30081.595610               1.0   \n",
            "2   Female  29.0   43944.229153         464.0  43724.802822               1.0   \n",
            "3     Male  22.0  122042.844427         836.0  37716.991822               1.0   \n",
            "4   Female  24.0   79418.416676         491.0  17164.755736               NaN   \n",
            "..     ...   ...            ...           ...           ...               ...   \n",
            "95    Male  44.0  119260.145437         528.0           NaN               0.0   \n",
            "96    Male   NaN   87431.559074         669.0   8063.333329               0.0   \n",
            "97  Female  21.0  111249.788883         428.0  16337.344471               1.0   \n",
            "98     NaN  62.0  102845.407334         324.0  14952.241191               0.0   \n",
            "99    Male  32.0  115763.632348         592.0  16393.603718               NaN   \n",
            "\n",
            "    Fraud_Risk  \n",
            "0     0.449292  \n",
            "1     0.304468  \n",
            "2     0.839189  \n",
            "3     0.237742  \n",
            "4     0.502389  \n",
            "..         ...  \n",
            "95    0.133461  \n",
            "96    0.980580  \n",
            "97    0.871786  \n",
            "98    0.502721  \n",
            "99    0.922348  \n",
            "\n",
            "[100 rows x 7 columns]\n"
          ]
        }
      ]
    },
    {
      "cell_type": "code",
      "source": [
        "#4.b\n",
        "print(dataset.sample(25))"
      ],
      "metadata": {
        "colab": {
          "base_uri": "https://localhost:8080/"
        },
        "id": "VURMsQRne91r",
        "outputId": "768ac938-4fc8-4202-a21a-f581ce80e67b"
      },
      "execution_count": 40,
      "outputs": [
        {
          "output_type": "stream",
          "name": "stdout",
          "text": [
            "    Gender   Age  Annual_Income  Credit_Score   Loan_Amount  Previous_Default  \\\n",
            "42    Male  27.0   90997.853829         626.0  22670.405445               1.0   \n",
            "30  Female   NaN   46951.668591         439.0  28347.581697               NaN   \n",
            "11    Male  32.0   93984.750470         447.0  36303.145054               1.0   \n",
            "37  Female   NaN   72277.399344         673.0  27950.758354               1.0   \n",
            "90  Female  58.0  135720.547464         639.0  19701.539680               1.0   \n",
            "19  Female  66.0   76015.467004         770.0  39983.340283               1.0   \n",
            "62  Female  19.0   51538.831310         304.0  25616.247227               0.0   \n",
            "1   Female  38.0  147428.511410         406.0  30081.595610               1.0   \n",
            "73    Male  18.0  149087.567867         802.0  22929.541638               0.0   \n",
            "44  Female  28.0  123486.122353         353.0  13420.890129               1.0   \n",
            "66    Male  61.0  143294.370110         453.0  47834.351457               0.0   \n",
            "72    Male  50.0  113891.768966         671.0  33300.429758               0.0   \n",
            "45  Female  68.0  133791.995472         394.0  45679.277972               0.0   \n",
            "88  Female  31.0   36770.199926         744.0  44126.983875               0.0   \n",
            "33    Male  66.0   61240.911310           NaN  48174.500338               1.0   \n",
            "24    Male  18.0   72485.599450         527.0  21688.375965               0.0   \n",
            "46     NaN  61.0   79367.606851         359.0  29471.267753               0.0   \n",
            "5   Female  22.0            NaN         495.0  10916.725968               1.0   \n",
            "12    Male  33.0   57663.962821         755.0  17758.348096               1.0   \n",
            "17    Male  31.0  115928.943747         581.0  36364.875878               1.0   \n",
            "51     NaN  48.0   80409.044375         600.0  22956.139477               1.0   \n",
            "99    Male  32.0  115763.632348         592.0  16393.603718               NaN   \n",
            "95    Male  44.0  119260.145437         528.0           NaN               0.0   \n",
            "53  Female  36.0            NaN         834.0  36051.125909               0.0   \n",
            "70  Female  69.0   90003.155728         711.0  41698.571845               1.0   \n",
            "\n",
            "    Fraud_Risk  \n",
            "42         NaN  \n",
            "30    0.455444  \n",
            "11    0.967966  \n",
            "37    0.750595  \n",
            "90    0.227760  \n",
            "19    0.604118  \n",
            "62    0.089495  \n",
            "1     0.304468  \n",
            "73    0.948861  \n",
            "44    0.104628  \n",
            "66    0.622231  \n",
            "72         NaN  \n",
            "45    0.348476  \n",
            "88         NaN  \n",
            "33    0.505866  \n",
            "24    0.274824  \n",
            "46    0.740098  \n",
            "5     0.942584  \n",
            "12    0.994401  \n",
            "17    0.417486  \n",
            "51    0.341698  \n",
            "99    0.922348  \n",
            "95    0.133461  \n",
            "53    0.879235  \n",
            "70    0.577140  \n"
          ]
        }
      ]
    },
    {
      "cell_type": "code",
      "source": [
        "#4.c\n",
        "dataset.dropna(inplace = True)\n",
        "print(dataset)"
      ],
      "metadata": {
        "colab": {
          "base_uri": "https://localhost:8080/"
        },
        "id": "xh0ra750fAo-",
        "outputId": "e8f89326-efa9-494b-cf6f-beffecb949cf"
      },
      "execution_count": 41,
      "outputs": [
        {
          "output_type": "stream",
          "name": "stdout",
          "text": [
            "    Gender   Age  Annual_Income  Credit_Score   Loan_Amount  Previous_Default  \\\n",
            "0     Male  60.0   83903.728586         316.0  23924.276001               1.0   \n",
            "1   Female  38.0  147428.511410         406.0  30081.595610               1.0   \n",
            "2   Female  29.0   43944.229153         464.0  43724.802822               1.0   \n",
            "3     Male  22.0  122042.844427         836.0  37716.991822               1.0   \n",
            "6   Female  65.0   59975.553079         607.0   7491.844419               0.0   \n",
            "..     ...   ...            ...           ...           ...               ...   \n",
            "91  Female  26.0  147168.526391         574.0  15473.485818               0.0   \n",
            "92    Male  37.0  104118.949932         669.0  32650.911791               1.0   \n",
            "93    Male  49.0   95099.853001         526.0   6488.356616               0.0   \n",
            "94  Female  26.0  132553.629637         525.0   5702.272900               0.0   \n",
            "97  Female  21.0  111249.788883         428.0  16337.344471               1.0   \n",
            "\n",
            "    Fraud_Risk  \n",
            "0     0.449292  \n",
            "1     0.304468  \n",
            "2     0.839189  \n",
            "3     0.237742  \n",
            "6     0.633998  \n",
            "..         ...  \n",
            "91    0.410302  \n",
            "92    0.623295  \n",
            "93    0.886961  \n",
            "94    0.618826  \n",
            "97    0.871786  \n",
            "\n",
            "[67 rows x 7 columns]\n"
          ]
        }
      ]
    },
    {
      "cell_type": "code",
      "source": [
        "X = dataset.iloc[:, :-1]\n",
        "Y = dataset.iloc[:, -1]\n",
        "\n",
        "gender = pd.get_dummies(X['Gender'], drop_first= True)\n",
        "\n",
        "X = pd.concat([X, gender], axis=1)\n",
        "\n",
        "X = X.drop('Gender', axis=1)\n",
        "\n",
        "print(X)"
      ],
      "metadata": {
        "colab": {
          "base_uri": "https://localhost:8080/"
        },
        "id": "QLxWoyqGfLLd",
        "outputId": "e94ef8c4-1ef5-46b7-c933-2a0d0bd41f27"
      },
      "execution_count": 42,
      "outputs": [
        {
          "output_type": "stream",
          "name": "stdout",
          "text": [
            "     Age  Annual_Income  Credit_Score   Loan_Amount  Previous_Default  Male\n",
            "0   60.0   83903.728586         316.0  23924.276001               1.0     1\n",
            "1   38.0  147428.511410         406.0  30081.595610               1.0     0\n",
            "2   29.0   43944.229153         464.0  43724.802822               1.0     0\n",
            "3   22.0  122042.844427         836.0  37716.991822               1.0     1\n",
            "6   65.0   59975.553079         607.0   7491.844419               0.0     0\n",
            "..   ...            ...           ...           ...               ...   ...\n",
            "91  26.0  147168.526391         574.0  15473.485818               0.0     0\n",
            "92  37.0  104118.949932         669.0  32650.911791               1.0     1\n",
            "93  49.0   95099.853001         526.0   6488.356616               0.0     1\n",
            "94  26.0  132553.629637         525.0   5702.272900               0.0     0\n",
            "97  21.0  111249.788883         428.0  16337.344471               1.0     0\n",
            "\n",
            "[67 rows x 6 columns]\n"
          ]
        }
      ]
    },
    {
      "cell_type": "code",
      "source": [
        "print(X.sample(25))"
      ],
      "metadata": {
        "colab": {
          "base_uri": "https://localhost:8080/"
        },
        "id": "_LTpbOf0fzJZ",
        "outputId": "b640580c-9a58-4819-c80b-a3313be62d7b"
      },
      "execution_count": 43,
      "outputs": [
        {
          "output_type": "stream",
          "name": "stdout",
          "text": [
            "     Age  Annual_Income  Credit_Score   Loan_Amount  Previous_Default  Male\n",
            "25  49.0   96217.951096         817.0  13867.442608               0.0     0\n",
            "97  21.0  111249.788883         428.0  16337.344471               1.0     0\n",
            "6   65.0   59975.553079         607.0   7491.844419               0.0     0\n",
            "73  18.0  149087.567867         802.0  22929.541638               0.0     1\n",
            "1   38.0  147428.511410         406.0  30081.595610               1.0     0\n",
            "56  38.0  121789.403880         755.0  39055.038923               1.0     0\n",
            "13  38.0   77384.315214         387.0  22096.713016               0.0     0\n",
            "40  57.0  138557.729305         808.0  17491.824398               1.0     1\n",
            "57  35.0  143294.822332         768.0  33622.747495               0.0     1\n",
            "61  59.0   70678.214014         580.0  48162.497137               1.0     1\n",
            "2   29.0   43944.229153         464.0  43724.802822               1.0     0\n",
            "3   22.0  122042.844427         836.0  37716.991822               1.0     1\n",
            "50  53.0   74794.890094         501.0  37587.543648               1.0     1\n",
            "32  52.0  148085.068964         723.0  30989.432697               1.0     0\n",
            "82  42.0   56249.924848         412.0   5734.782621               0.0     1\n",
            "22  59.0   42343.603043         624.0  31441.983584               0.0     0\n",
            "65  40.0  134948.754917         842.0  25575.055401               1.0     1\n",
            "80  31.0   55486.859867         832.0  20991.598181               0.0     1\n",
            "62  19.0   51538.831310         304.0  25616.247227               0.0     0\n",
            "11  32.0   93984.750470         447.0  36303.145054               1.0     1\n",
            "81  48.0   56693.186926         624.0  21051.810068               0.0     0\n",
            "44  28.0  123486.122353         353.0  13420.890129               1.0     0\n",
            "75  37.0  111490.873875         437.0  24081.451335               1.0     0\n",
            "58  68.0  119999.909852         773.0  15800.912302               0.0     1\n",
            "0   60.0   83903.728586         316.0  23924.276001               1.0     1\n"
          ]
        }
      ]
    },
    {
      "cell_type": "code",
      "source": [
        "from sklearn.model_selection import train_test_split\n",
        "\n",
        "X_train, X_test, Y_train, Y_test = train_test_split(X, Y, test_size=0.25, random_state=0)"
      ],
      "metadata": {
        "id": "88gERgKth34c"
      },
      "execution_count": 44,
      "outputs": []
    },
    {
      "cell_type": "code",
      "source": [
        "from sklearn.linear_model import LinearRegression\n",
        "\n",
        "model = LinearRegression()\n",
        "\n",
        "model.fit(X_train, Y_train)"
      ],
      "metadata": {
        "colab": {
          "base_uri": "https://localhost:8080/",
          "height": 75
        },
        "id": "T7mouYQzh8jM",
        "outputId": "8467dee5-9a18-415e-c6b8-642bb9312439"
      },
      "execution_count": 45,
      "outputs": [
        {
          "output_type": "execute_result",
          "data": {
            "text/plain": [
              "LinearRegression()"
            ],
            "text/html": [
              "<style>#sk-container-id-3 {color: black;background-color: white;}#sk-container-id-3 pre{padding: 0;}#sk-container-id-3 div.sk-toggleable {background-color: white;}#sk-container-id-3 label.sk-toggleable__label {cursor: pointer;display: block;width: 100%;margin-bottom: 0;padding: 0.3em;box-sizing: border-box;text-align: center;}#sk-container-id-3 label.sk-toggleable__label-arrow:before {content: \"▸\";float: left;margin-right: 0.25em;color: #696969;}#sk-container-id-3 label.sk-toggleable__label-arrow:hover:before {color: black;}#sk-container-id-3 div.sk-estimator:hover label.sk-toggleable__label-arrow:before {color: black;}#sk-container-id-3 div.sk-toggleable__content {max-height: 0;max-width: 0;overflow: hidden;text-align: left;background-color: #f0f8ff;}#sk-container-id-3 div.sk-toggleable__content pre {margin: 0.2em;color: black;border-radius: 0.25em;background-color: #f0f8ff;}#sk-container-id-3 input.sk-toggleable__control:checked~div.sk-toggleable__content {max-height: 200px;max-width: 100%;overflow: auto;}#sk-container-id-3 input.sk-toggleable__control:checked~label.sk-toggleable__label-arrow:before {content: \"▾\";}#sk-container-id-3 div.sk-estimator input.sk-toggleable__control:checked~label.sk-toggleable__label {background-color: #d4ebff;}#sk-container-id-3 div.sk-label input.sk-toggleable__control:checked~label.sk-toggleable__label {background-color: #d4ebff;}#sk-container-id-3 input.sk-hidden--visually {border: 0;clip: rect(1px 1px 1px 1px);clip: rect(1px, 1px, 1px, 1px);height: 1px;margin: -1px;overflow: hidden;padding: 0;position: absolute;width: 1px;}#sk-container-id-3 div.sk-estimator {font-family: monospace;background-color: #f0f8ff;border: 1px dotted black;border-radius: 0.25em;box-sizing: border-box;margin-bottom: 0.5em;}#sk-container-id-3 div.sk-estimator:hover {background-color: #d4ebff;}#sk-container-id-3 div.sk-parallel-item::after {content: \"\";width: 100%;border-bottom: 1px solid gray;flex-grow: 1;}#sk-container-id-3 div.sk-label:hover label.sk-toggleable__label {background-color: #d4ebff;}#sk-container-id-3 div.sk-serial::before {content: \"\";position: absolute;border-left: 1px solid gray;box-sizing: border-box;top: 0;bottom: 0;left: 50%;z-index: 0;}#sk-container-id-3 div.sk-serial {display: flex;flex-direction: column;align-items: center;background-color: white;padding-right: 0.2em;padding-left: 0.2em;position: relative;}#sk-container-id-3 div.sk-item {position: relative;z-index: 1;}#sk-container-id-3 div.sk-parallel {display: flex;align-items: stretch;justify-content: center;background-color: white;position: relative;}#sk-container-id-3 div.sk-item::before, #sk-container-id-3 div.sk-parallel-item::before {content: \"\";position: absolute;border-left: 1px solid gray;box-sizing: border-box;top: 0;bottom: 0;left: 50%;z-index: -1;}#sk-container-id-3 div.sk-parallel-item {display: flex;flex-direction: column;z-index: 1;position: relative;background-color: white;}#sk-container-id-3 div.sk-parallel-item:first-child::after {align-self: flex-end;width: 50%;}#sk-container-id-3 div.sk-parallel-item:last-child::after {align-self: flex-start;width: 50%;}#sk-container-id-3 div.sk-parallel-item:only-child::after {width: 0;}#sk-container-id-3 div.sk-dashed-wrapped {border: 1px dashed gray;margin: 0 0.4em 0.5em 0.4em;box-sizing: border-box;padding-bottom: 0.4em;background-color: white;}#sk-container-id-3 div.sk-label label {font-family: monospace;font-weight: bold;display: inline-block;line-height: 1.2em;}#sk-container-id-3 div.sk-label-container {text-align: center;}#sk-container-id-3 div.sk-container {/* jupyter's `normalize.less` sets `[hidden] { display: none; }` but bootstrap.min.css set `[hidden] { display: none !important; }` so we also need the `!important` here to be able to override the default hidden behavior on the sphinx rendered scikit-learn.org. See: https://github.com/scikit-learn/scikit-learn/issues/21755 */display: inline-block !important;position: relative;}#sk-container-id-3 div.sk-text-repr-fallback {display: none;}</style><div id=\"sk-container-id-3\" class=\"sk-top-container\"><div class=\"sk-text-repr-fallback\"><pre>LinearRegression()</pre><b>In a Jupyter environment, please rerun this cell to show the HTML representation or trust the notebook. <br />On GitHub, the HTML representation is unable to render, please try loading this page with nbviewer.org.</b></div><div class=\"sk-container\" hidden><div class=\"sk-item\"><div class=\"sk-estimator sk-toggleable\"><input class=\"sk-toggleable__control sk-hidden--visually\" id=\"sk-estimator-id-3\" type=\"checkbox\" checked><label for=\"sk-estimator-id-3\" class=\"sk-toggleable__label sk-toggleable__label-arrow\">LinearRegression</label><div class=\"sk-toggleable__content\"><pre>LinearRegression()</pre></div></div></div></div></div>"
            ]
          },
          "metadata": {},
          "execution_count": 45
        }
      ]
    },
    {
      "cell_type": "code",
      "source": [
        "Y_pred = model.predict(X_test)\n",
        "\n",
        "print(model.predict(np.array([33, 125000, 555, 50000, 0, 1]).reshape(1, -1)))\n"
      ],
      "metadata": {
        "id": "CA3tS9l2h-Fm",
        "colab": {
          "base_uri": "https://localhost:8080/"
        },
        "outputId": "5b0b5cca-816a-4a1c-e5ea-66a58c78915c"
      },
      "execution_count": 47,
      "outputs": [
        {
          "output_type": "stream",
          "name": "stdout",
          "text": [
            "[0.39559793]\n"
          ]
        },
        {
          "output_type": "stream",
          "name": "stderr",
          "text": [
            "/usr/local/lib/python3.10/dist-packages/sklearn/base.py:439: UserWarning: X does not have valid feature names, but LinearRegression was fitted with feature names\n",
            "  warnings.warn(\n"
          ]
        }
      ]
    },
    {
      "cell_type": "code",
      "source": [
        "from sklearn.metrics import r2_score"
      ],
      "metadata": {
        "id": "xPWGjTiAileU"
      },
      "execution_count": 48,
      "outputs": []
    },
    {
      "cell_type": "code",
      "source": [
        "score = r2_score(Y_test, Y_pred)\n",
        "print(score)"
      ],
      "metadata": {
        "colab": {
          "base_uri": "https://localhost:8080/"
        },
        "id": "fJwQDk-0iyTj",
        "outputId": "f2beb80f-88e7-4312-dcca-7c4139675071"
      },
      "execution_count": 50,
      "outputs": [
        {
          "output_type": "stream",
          "name": "stdout",
          "text": [
            "-0.2870544060322493\n"
          ]
        }
      ]
    },
    {
      "cell_type": "code",
      "source": [
        "#Explain:R2 score shows how adjusted the model is, the closer to 1, the better (100%). For data inserted, the model does not give a good result.\n",
        "#The value before calculates R2_Score is the value from our model, its represents the risk of fraude that the model predicts for the inserted values."
      ],
      "metadata": {
        "id": "hdBmctRCjrC6"
      },
      "execution_count": 51,
      "outputs": []
    },
    {
      "cell_type": "code",
      "source": [],
      "metadata": {
        "id": "UzK8Ly5KkRpM"
      },
      "execution_count": null,
      "outputs": []
    }
  ]
}